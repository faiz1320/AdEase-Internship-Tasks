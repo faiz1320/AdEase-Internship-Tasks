{
 "cells": [
  {
   "cell_type": "code",
   "execution_count": null,
   "id": "cf17e187",
   "metadata": {},
   "outputs": [],
   "source": [
    "pip install bs4"
   ]
  },
  {
   "cell_type": "code",
   "execution_count": null,
   "id": "6413e21a",
   "metadata": {},
   "outputs": [],
   "source": [
    "pip install requests"
   ]
  },
  {
   "cell_type": "code",
   "execution_count": null,
   "id": "5a396ce7",
   "metadata": {},
   "outputs": [],
   "source": [
    "import requests \n",
    "from bs4 import BeautifulSoup \n",
    "    \n",
    "def getdata(url): \n",
    "    r = requests.get(url) \n",
    "    return r.text \n",
    "    \n",
    "htmldata = getdata(\"https://www.geeksforgeeks.org/\") \n",
    "soup = BeautifulSoup(htmldata, 'html.parser') \n",
    "for item in soup.find_all('img'):\n",
    "    print(item['src'])"
   ]
  },
  {
   "cell_type": "code",
   "execution_count": null,
   "id": "5b6d755d",
   "metadata": {},
   "outputs": [],
   "source": [
    "import requests\n",
    "from bs4 import BeautifulSoup\n",
    "response = requests.get(\"https://parade.com/\")\n",
    "soup = BeautifulSoup(response.text)\n",
    "soup.find(id=\"intro-text\")"
   ]
  },
  {
   "cell_type": "code",
   "execution_count": null,
   "id": "dd756dd9",
   "metadata": {},
   "outputs": [],
   "source": [
    "pip install selenium"
   ]
  },
  {
   "cell_type": "code",
   "execution_count": null,
   "id": "7588f865",
   "metadata": {},
   "outputs": [],
   "source": [
    "from selenium import webdriver\n",
    "driver = webdriver.PhantomJS()\n",
    "driver.get(\"https://parade.com/\")\n",
    "p_element = driver.find_element_by_id(id_='intro-text')\n",
    "print(p_element.text)"
   ]
  },
  {
   "cell_type": "code",
   "execution_count": null,
   "id": "29d3b018",
   "metadata": {},
   "outputs": [],
   "source": [
    "pip install os"
   ]
  },
  {
   "cell_type": "code",
   "execution_count": null,
   "id": "fcac14bb",
   "metadata": {},
   "outputs": [],
   "source": [
    "import requests\n",
    "from bs4 import BeautifulSoup\n",
    "import os\n",
    "\n",
    "url = 'https://www.airbnb.co.uk/s/Ljubljana--Slovenia/homes?tab_id=home_tab&refinement_paths%5B%5D=%2Fhomes&query=Ljubljana%2C%20Slovenia&place_id=ChIJ0YaYlvUxZUcRIOw_ghz4AAQ&checkin=2020-11-01&checkout=2020-11-08&source=structured_search_input_header&search_type=autocomplete_click'\n",
    "\n",
    "def imagedown(url, folder):\n",
    "    try:\n",
    "        os.mkdir(os.path.join(os.getcwd(), folder))\n",
    "    except:\n",
    "        pass\n",
    "    os.chdir(os.path.join(os.getcwd(), folder))\n",
    "    r = requests.get(url)\n",
    "    soup = BeautifulSoup(r.text, 'html.parser')\n",
    "    images = soup.find_all('img')\n",
    "    for image in images:\n",
    "        name = image['alt']\n",
    "        link = image['src']\n",
    "        with open(name.replace(' ', '-').replace('/', '') + '.jpg', 'wb') as f:\n",
    "            im = requests.get(link)\n",
    "            f.write(im.content)\n",
    "            print('Writing: ', name)\n",
    "\n",
    "imagedown('https://www.airbnb.co.uk/s/Bratislava--Slovakia/homes?tab_id=home_tab&refinement_paths%5B%5D=%2Fhomes&place_id=ChIJl2HKCjaJbEcRaEOI_YKbH2M&query=Bratislava%2C%20Slovakia&checkin=2020-11-01&checkout=2020-11-22&source=search_blocks_selector_p1_flow&search_type=search_query', 'bratislava')\n"
   ]
  },
  {
   "cell_type": "code",
   "execution_count": null,
   "id": "f90f9ff3",
   "metadata": {},
   "outputs": [],
   "source": [
    "#print only links\n",
    "from bs4 import BeautifulSoup\n",
    "import requests\n",
    "\n",
    "source = requests.get('https://www.geeksforgeeks.org/').text\n",
    "\n",
    "soup = BeautifulSoup(source , 'lxml')\n",
    "\n",
    "for link in soup.find_all('a' , href = True):\n",
    "    print(link['href']"
   ]
  }
 ],
 "metadata": {
  "kernelspec": {
   "display_name": "Python 3",
   "language": "python",
   "name": "python3"
  },
  "language_info": {
   "codemirror_mode": {
    "name": "ipython",
    "version": 3
   },
   "file_extension": ".py",
   "mimetype": "text/x-python",
   "name": "python",
   "nbconvert_exporter": "python",
   "pygments_lexer": "ipython3",
   "version": "3.8.8"
  }
 },
 "nbformat": 4,
 "nbformat_minor": 5
}
