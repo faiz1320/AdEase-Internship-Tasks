{
  "nbformat": 4,
  "nbformat_minor": 0,
  "metadata": {
    "colab": {
      "name": "Part-2 Logo Detection .ipynb",
      "provenance": [],
      "collapsed_sections": []
    },
    "kernelspec": {
      "display_name": "Python 3",
      "language": "python",
      "name": "python3"
    },
    "accelerator": "GPU"
  },
  "cells": [
    {
      "metadata": {
        "id": "54Cc0J-8H34j"
      },
      "cell_type": "markdown",
      "source": [
        "# Logo Detection Using PyTorch for Colab"
      ]
    },
    {
      "metadata": {
        "id": "cfoOJixhJIQr"
      },
      "cell_type": "markdown",
      "source": [
        "#  Colab Preparation"
      ]
    },
    {
      "metadata": {
        "id": "XpmUIeTXLKGD"
      },
      "cell_type": "markdown",
      "source": [
        "## Install PyTorch 0.4 for Colab"
      ]
    },
    {
      "cell_type": "code",
      "source": [
        "!pip install wheel setuptools\n",
        "!python -m pip install pycparser\n",
        "!pip3 install wheel==0.34.1"
      ],
      "metadata": {
        "colab": {
          "base_uri": "https://localhost:8080/"
        },
        "id": "s1ZlbyEl9U4c",
        "outputId": "708f1088-3273-4b3d-eb6b-eb14ec015def"
      },
      "execution_count": 1,
      "outputs": [
        {
          "output_type": "stream",
          "name": "stdout",
          "text": [
            "Requirement already satisfied: wheel in /usr/local/lib/python3.7/dist-packages (0.37.1)\n",
            "Requirement already satisfied: setuptools in /usr/local/lib/python3.7/dist-packages (57.4.0)\n",
            "Requirement already satisfied: pycparser in /usr/local/lib/python3.7/dist-packages (2.21)\n",
            "Collecting wheel==0.34.1\n",
            "  Downloading wheel-0.34.1-py2.py3-none-any.whl (26 kB)\n",
            "Installing collected packages: wheel\n",
            "  Attempting uninstall: wheel\n",
            "    Found existing installation: wheel 0.37.1\n",
            "    Uninstalling wheel-0.37.1:\n",
            "      Successfully uninstalled wheel-0.37.1\n",
            "Successfully installed wheel-0.34.1\n"
          ]
        }
      ]
    },
    {
      "metadata": {
        "id": "FC8-DVX2JEAn",
        "colab": {
          "base_uri": "https://localhost:8080/"
        },
        "outputId": "574816b8-a046-47bf-f1d4-795611f4c884"
      },
      "cell_type": "code",
      "source": [
        "from os import path\n",
        "from wheel.pep425tags import get_abbr_impl, get_impl_ver, get_abi_tag\n",
        "platform = '{}{}-{}'.format(get_abbr_impl(), get_impl_ver(), get_abi_tag())\n",
        "\n",
        "accelerator = 'cu80' if path.exists('/opt/bin/nvidia-smi') else 'cpu'\n",
        "\n",
        "!pip3 install -q http://download.pytorch.org/whl/{accelerator}/torch-0.4.0-{platform}-linux_x86_64.whl \n",
        "!pip3 install torchvision"
      ],
      "execution_count": 2,
      "outputs": [
        {
          "output_type": "stream",
          "name": "stdout",
          "text": [
            "\u001b[31m  ERROR: HTTP error 403 while getting http://download.pytorch.org/whl/cu80/torch-0.4.0-cp37-cp37m-linux_x86_64.whl\u001b[0m\n",
            "\u001b[31mERROR: Could not install requirement torch==0.4.0 from http://download.pytorch.org/whl/cu80/torch-0.4.0-cp37-cp37m-linux_x86_64.whl because of HTTP error 403 Client Error: Forbidden for url: http://download.pytorch.org/whl/cu80/torch-0.4.0-cp37-cp37m-linux_x86_64.whl for URL http://download.pytorch.org/whl/cu80/torch-0.4.0-cp37-cp37m-linux_x86_64.whl\u001b[0m\n",
            "Requirement already satisfied: torchvision in /usr/local/lib/python3.7/dist-packages (0.11.1+cu111)\n",
            "Requirement already satisfied: numpy in /usr/local/lib/python3.7/dist-packages (from torchvision) (1.19.5)\n",
            "Requirement already satisfied: torch==1.10.0 in /usr/local/lib/python3.7/dist-packages (from torchvision) (1.10.0+cu111)\n",
            "Requirement already satisfied: pillow!=8.3.0,>=5.3.0 in /usr/local/lib/python3.7/dist-packages (from torchvision) (7.1.2)\n",
            "Requirement already satisfied: typing-extensions in /usr/local/lib/python3.7/dist-packages (from torch==1.10.0->torchvision) (3.10.0.2)\n"
          ]
        }
      ]
    },
    {
      "metadata": {
        "id": "dwEE99RAJqXS",
        "colab": {
          "base_uri": "https://localhost:8080/"
        },
        "outputId": "27c3442e-bae1-4739-a226-db4a362b71c1"
      },
      "cell_type": "code",
      "source": [
        "import torch\n",
        "print(torch.__version__)\n",
        "print(accelerator)\n",
        "print(torch.cuda.is_available())"
      ],
      "execution_count": 3,
      "outputs": [
        {
          "output_type": "stream",
          "name": "stdout",
          "text": [
            "1.10.0+cu111\n",
            "cu80\n",
            "True\n"
          ]
        }
      ]
    },
    {
      "metadata": {
        "id": "LNCmPBQvH34p"
      },
      "cell_type": "markdown",
      "source": [
        "# 1. Get the Data"
      ]
    },
    {
      "metadata": {
        "id": "p7v0V-uzH34t"
      },
      "cell_type": "code",
      "source": [
        "import urllib.request\n",
        "import os\n",
        "import zipfile\n",
        "import shutil\n",
        "from pathlib import Path"
      ],
      "execution_count": 4,
      "outputs": []
    },
    {
      "metadata": {
        "id": "_FnOg43fH35F"
      },
      "cell_type": "code",
      "source": [
        "# See download section on URL: http://www.multimedia-computing.de/flickrlogos/\n",
        "FLICKLOGOS_URL = \"http://bit.ly/FlickrLogos32v2\""
      ],
      "execution_count": 8,
      "outputs": []
    },
    {
      "metadata": {
        "id": "1tliHKANH35S"
      },
      "cell_type": "code",
      "source": [
        "SOURCE_DIR = Path('FlickrLogos-v2')\n",
        "DATA_DIR = Path('data')\n",
        "SETS = ['train', 'val', 'test']"
      ],
      "execution_count": 9,
      "outputs": []
    },
    {
      "metadata": {
        "id": "enT5tQm1H35h"
      },
      "cell_type": "code",
      "source": [
        "def load_datasets(url, dst_dir):\n",
        "    zip_file = url.split(sep='/')[-1]\n",
        "    zip_file_path = SOURCE_DIR / zip_file\n",
        "    if not dst_dir.is_dir():\n",
        "        if not zip_file_path.is_file():\n",
        "            urllib.request.urlretrieve(url, zip_file)        \n",
        "        with zipfile.ZipFile(zip_file) as zip_ref:\n",
        "            zip_ref.extractall()\n",
        "        #os.unlink(zip_file)    # comment out if you want to delete zip file"
      ],
      "execution_count": 10,
      "outputs": []
    },
    {
      "metadata": {
        "id": "0_ErH0Z5H35q",
        "colab": {
          "base_uri": "https://localhost:8080/"
        },
        "outputId": "93b55f8d-e8d8-4ad2-b8b7-c3b4d2f9175b"
      },
      "cell_type": "code",
      "source": [
        "%time load_datasets(FLICKLOGOS_URL, SOURCE_DIR)"
      ],
      "execution_count": 11,
      "outputs": [
        {
          "output_type": "stream",
          "name": "stdout",
          "text": [
            "CPU times: user 31.3 s, sys: 15.3 s, total: 46.6 s\n",
            "Wall time: 3min 30s\n"
          ]
        }
      ]
    },
    {
      "metadata": {
        "id": "GwG_vqUyMfgM",
        "colab": {
          "base_uri": "https://localhost:8080/"
        },
        "outputId": "81b4f29b-0605-474d-f5fc-bd950426bbd2"
      },
      "cell_type": "code",
      "source": [
        "!ls FlickrLogos-v2"
      ],
      "execution_count": 12,
      "outputs": [
        {
          "output_type": "stream",
          "name": "stdout",
          "text": [
            "all.filenames.txt\t\t trainset.relpaths.txt\n",
            "all.relpaths.txt\t\t trainset.spaces.txt\n",
            "all.spaces.txt\t\t\t trainset.txt\n",
            "all.txt\t\t\t\t trainvalset.filenames.txt\n",
            "classes\t\t\t\t trainvalset.relpaths.txt\n",
            "README.txt\t\t\t trainvalset.spaces.txt\n",
            "scripts\t\t\t\t trainvalset.txt\n",
            "testset.filenames.txt\t\t valset.filenames.txt\n",
            "testset-logosonly.filenames.txt  valset-logosonly.filenames.txt\n",
            "testset-logosonly.relpaths.txt\t valset-logosonly.relpaths.txt\n",
            "testset-logosonly.spaces.txt\t valset-logosonly.spaces.txt\n",
            "testset-logosonly.txt\t\t valset-nologos.filenames.txt\n",
            "testset-nologos.filenames.txt\t valset-nologos.relpaths.txt\n",
            "testset-nologos.relpaths.txt\t valset-nologos.spaces.txt\n",
            "testset-nologos.spaces.txt\t valset.relpaths.txt\n",
            "testset.relpaths.txt\t\t valset.spaces.txt\n",
            "testset.spaces.txt\t\t valset.txt\n",
            "testset.txt\t\t\t visualsummary.jpg\n",
            "trainset.filenames.txt\n"
          ]
        }
      ]
    },
    {
      "metadata": {
        "id": "Yby4uPZnH350"
      },
      "cell_type": "markdown",
      "source": [
        "# 2. Prepare Datasets"
      ]
    },
    {
      "metadata": {
        "id": "UzGPnZRnH352"
      },
      "cell_type": "code",
      "source": [
        "def list_image_paths(txt_relpath):\n",
        "    with open(txt_relpath) as f:\n",
        "        image_paths = f.read().splitlines()\n",
        "    return image_paths"
      ],
      "execution_count": 13,
      "outputs": []
    },
    {
      "metadata": {
        "id": "KZh37i1-H36I"
      },
      "cell_type": "code",
      "source": [
        "train_logo_relpaths = list_image_paths(SOURCE_DIR / 'trainset.relpaths.txt')\n",
        "val_logo_relpaths = list_image_paths(SOURCE_DIR / 'valset-logosonly.relpaths.txt')\n",
        "val_nologo_relpaths = list_image_paths(SOURCE_DIR / 'valset-nologos.relpaths.txt')\n",
        "test_relpaths = list_image_paths(SOURCE_DIR / 'testset.relpaths.txt')"
      ],
      "execution_count": 14,
      "outputs": []
    },
    {
      "metadata": {
        "id": "M-V38tMjH36f",
        "colab": {
          "base_uri": "https://localhost:8080/"
        },
        "outputId": "5046bb3a-0380-4dcb-86a4-4ca4d7a8934b"
      },
      "cell_type": "code",
      "source": [
        "print('Numbers of Training Images (logo): ',len(train_logo_relpaths))\n",
        "print('Numbers of Validation Images (logo): ',len(val_logo_relpaths))\n",
        "print('Numbers of Training Images (no logo): ',len(val_nologo_relpaths))\n",
        "print('Numbers of Test Images (logos + no log): ',len(test_relpaths))"
      ],
      "execution_count": 15,
      "outputs": [
        {
          "output_type": "stream",
          "name": "stdout",
          "text": [
            "Numbers of Training Images (logo):  320\n",
            "Numbers of Validation Images (logo):  960\n",
            "Numbers of Training Images (no logo):  3000\n",
            "Numbers of Test Images (logos + no log):  3960\n"
          ]
        }
      ]
    },
    {
      "metadata": {
        "id": "yOZ8FuJNH361"
      },
      "cell_type": "code",
      "source": [
        "train_relpaths = train_logo_relpaths + val_nologo_relpaths[:int(len(val_nologo_relpaths) / 2)]\n",
        "val_relpaths = val_logo_relpaths + val_nologo_relpaths[int(len(val_nologo_relpaths) / 2):]"
      ],
      "execution_count": 16,
      "outputs": []
    },
    {
      "metadata": {
        "id": "DmBKHqdmH37I",
        "colab": {
          "base_uri": "https://localhost:8080/"
        },
        "outputId": "2d690349-4c73-4ad9-ebf2-922a46c8be0f"
      },
      "cell_type": "code",
      "source": [
        "print('Numbers of Training Images (logos + no logo): ',len(train_relpaths))\n",
        "print('Numbers of Validation Images (logos + no logo): ',len(val_relpaths))\n",
        "print('Numbers of Training Images (logos + no log): ',len(test_relpaths))"
      ],
      "execution_count": 17,
      "outputs": [
        {
          "output_type": "stream",
          "name": "stdout",
          "text": [
            "Numbers of Training Images (logos + no logo):  1820\n",
            "Numbers of Validation Images (logos + no logo):  2460\n",
            "Numbers of Training Images (logos + no log):  3960\n"
          ]
        }
      ]
    },
    {
      "metadata": {
        "id": "QP32paBvH37a"
      },
      "cell_type": "code",
      "source": [
        "relpaths = [train_relpaths, val_relpaths, test_relpaths]\n",
        "dataset_paths = dict(zip(SETS, relpaths))\n",
        "# dataset_paths = dict(train=train_relpaths, val=val_relpaths, test=test_relpaths)"
      ],
      "execution_count": 18,
      "outputs": []
    },
    {
      "metadata": {
        "id": "cAzK0ur1H37n",
        "colab": {
          "base_uri": "https://localhost:8080/"
        },
        "outputId": "00c091df-2b2e-41ad-a96a-75d0d0eef4cd"
      },
      "cell_type": "code",
      "source": [
        "len(dataset_paths['train'])"
      ],
      "execution_count": 19,
      "outputs": [
        {
          "output_type": "execute_result",
          "data": {
            "text/plain": [
              "1820"
            ]
          },
          "metadata": {},
          "execution_count": 19
        }
      ]
    },
    {
      "metadata": {
        "id": "9LSA_QOtH377",
        "colab": {
          "base_uri": "https://localhost:8080/",
          "height": 35
        },
        "outputId": "cf5c6a4d-d1f3-4209-8cef-1bdcee3d77af"
      },
      "cell_type": "code",
      "source": [
        "train_logo_relpaths[0]"
      ],
      "execution_count": 20,
      "outputs": [
        {
          "output_type": "execute_result",
          "data": {
            "application/vnd.google.colaboratory.intrinsic+json": {
              "type": "string"
            },
            "text/plain": [
              "'classes/jpg/google/2325670467.jpg'"
            ]
          },
          "metadata": {},
          "execution_count": 20
        }
      ]
    },
    {
      "metadata": {
        "id": "Uw03R1ZhH38J"
      },
      "cell_type": "code",
      "source": [
        "def prepare_datasets(src_dir, dst_dir, keep_source=True):\n",
        "    for dataset, paths in dataset_paths.items():\n",
        "        num_files = 0\n",
        "        for path in paths:\n",
        "            num_files += 1\n",
        "            src = src_dir / path\n",
        "            dst = dst_dir / (path.replace('classes/jpg', dataset))\n",
        "            dst.parent.mkdir(parents=True, exist_ok=True)\n",
        "            shutil.copy2(src, dst)\n",
        "        print(dataset, 'dataset:', str(num_files))\n",
        "    if not keep_source: shutil.rmtree(src_dir)"
      ],
      "execution_count": 21,
      "outputs": []
    },
    {
      "metadata": {
        "id": "0GQ881Q6V9ZW",
        "colab": {
          "base_uri": "https://localhost:8080/"
        },
        "outputId": "f96ef99f-d4a0-4d51-b261-e7b9f7fa6286"
      },
      "cell_type": "code",
      "source": [
        "!ls data"
      ],
      "execution_count": 22,
      "outputs": [
        {
          "output_type": "stream",
          "name": "stdout",
          "text": [
            "ls: cannot access 'data': No such file or directory\n"
          ]
        }
      ]
    },
    {
      "metadata": {
        "id": "0ricwxcPH38V",
        "colab": {
          "base_uri": "https://localhost:8080/"
        },
        "outputId": "39cc7283-76ef-47bb-cc4c-86fc99388646"
      },
      "cell_type": "code",
      "source": [
        "# Run once\n",
        "%time prepare_datasets(SOURCE_DIR, DATA_DIR)"
      ],
      "execution_count": 23,
      "outputs": [
        {
          "output_type": "stream",
          "name": "stdout",
          "text": [
            "train dataset: 1820\n",
            "val dataset: 2460\n",
            "test dataset: 3960\n",
            "CPU times: user 2.46 s, sys: 5.93 s, total: 8.39 s\n",
            "Wall time: 51.1 s\n"
          ]
        }
      ]
    },
    {
      "metadata": {
        "id": "ETDrcqBwH38j"
      },
      "cell_type": "markdown",
      "source": [
        "## DataLoader"
      ]
    },
    {
      "metadata": {
        "id": "cQdSGN7pH38m"
      },
      "cell_type": "code",
      "source": [
        "%matplotlib inline\n",
        "import time\n",
        "import copy\n",
        "import numpy as np\n",
        "import matplotlib.pyplot as plt\n",
        "import torch\n",
        "import torch.nn as nn\n",
        "import torch.nn.functional as F\n",
        "import torch.optim as optim\n",
        "import torchvision\n",
        "from torchvision.transforms import transforms\n",
        "from torch.utils.data import DataLoader"
      ],
      "execution_count": 24,
      "outputs": []
    },
    {
      "metadata": {
        "id": "A5PDZ1IiH397"
      },
      "cell_type": "code",
      "source": [
        "train_mean = np.array([0.44943, 0.4331 , 0.40244])\n",
        "train_std = np.array([0.29053, 0.28417, 0.30194])"
      ],
      "execution_count": 25,
      "outputs": []
    },
    {
      "metadata": {
        "id": "fdFoMKNlH3-O"
      },
      "cell_type": "code",
      "source": [
        "data_transforms = transforms.Compose([\n",
        "    transforms.Resize((224, 224)), \n",
        "    transforms.ToTensor(),\n",
        "    transforms.Normalize(train_mean, train_std)\n",
        "])"
      ],
      "execution_count": 26,
      "outputs": []
    },
    {
      "metadata": {
        "id": "DRS6UDxqH3-b"
      },
      "cell_type": "code",
      "source": [
        "datasets = {i : torchvision.datasets.ImageFolder(DATA_DIR / i, data_transforms) \n",
        "            for i in SETS}"
      ],
      "execution_count": 27,
      "outputs": []
    },
    {
      "metadata": {
        "id": "X1C9rGSuH3-y"
      },
      "cell_type": "code",
      "source": [
        "bz = 8 # lower if error"
      ],
      "execution_count": 28,
      "outputs": []
    },
    {
      "metadata": {
        "id": "rHyctCawH3-4",
        "colab": {
          "base_uri": "https://localhost:8080/"
        },
        "outputId": "f2554edb-1ee1-4640-ab9d-80bbfb290cf3"
      },
      "cell_type": "code",
      "source": [
        "dataloaders = {i : DataLoader(datasets[i], batch_size=bz, shuffle=(i == 'train'), num_workers=4) \n",
        "               for i in SETS}"
      ],
      "execution_count": 29,
      "outputs": [
        {
          "output_type": "stream",
          "name": "stderr",
          "text": [
            "/usr/local/lib/python3.7/dist-packages/torch/utils/data/dataloader.py:481: UserWarning: This DataLoader will create 4 worker processes in total. Our suggested max number of worker in current system is 2, which is smaller than what this DataLoader is going to create. Please be aware that excessive worker creation might get DataLoader running slow or even freeze, lower the worker number to avoid potential slowness/freeze if necessary.\n",
            "  cpuset_checked))\n"
          ]
        }
      ]
    },
    {
      "metadata": {
        "id": "IEBq8iS8H3_E"
      },
      "cell_type": "markdown",
      "source": [
        "## Visualize Datasets"
      ]
    },
    {
      "metadata": {
        "id": "bTfDEOGLH3_F"
      },
      "cell_type": "code",
      "source": [
        "def imshow(img):\n",
        "    npimg = img.numpy().transpose((1, 2, 0))\n",
        "    npimg = npimg * train_std + train_std    # denorm\n",
        "    npimg = np.clip(npimg, 0, 1)\n",
        "    plt.imshow(npimg)"
      ],
      "execution_count": 30,
      "outputs": []
    },
    {
      "metadata": {
        "id": "7SoYQqg0H3_L",
        "colab": {
          "base_uri": "https://localhost:8080/"
        },
        "outputId": "0cf7959e-4009-4f86-fba0-75363c53256c"
      },
      "cell_type": "code",
      "source": [
        "imgs, labels = next(iter(dataloaders['train']))"
      ],
      "execution_count": 31,
      "outputs": [
        {
          "output_type": "stream",
          "name": "stderr",
          "text": [
            "/usr/local/lib/python3.7/dist-packages/torch/utils/data/dataloader.py:481: UserWarning: This DataLoader will create 4 worker processes in total. Our suggested max number of worker in current system is 2, which is smaller than what this DataLoader is going to create. Please be aware that excessive worker creation might get DataLoader running slow or even freeze, lower the worker number to avoid potential slowness/freeze if necessary.\n",
            "  cpuset_checked))\n"
          ]
        }
      ]
    },
    {
      "metadata": {
        "id": "fZWrp7klH3_d",
        "colab": {
          "base_uri": "https://localhost:8080/",
          "height": 154
        },
        "outputId": "9fb4b753-3f41-4212-e794-39adbc64cee4"
      },
      "cell_type": "code",
      "source": [
        "img = torchvision.utils.make_grid(imgs[:4])\n",
        "classes = datasets['train'].classes\n",
        "print(', '.join(classes[i] for i in labels[:4]))\n",
        "imshow(img)"
      ],
      "execution_count": 32,
      "outputs": [
        {
          "output_type": "stream",
          "name": "stdout",
          "text": [
            "no-logo, ferrari, no-logo, no-logo\n"
          ]
        },
        {
          "output_type": "display_data",
          "data": {
            "image/png": "[encoded data removed]",
            "text/plain": [
              "<Figure size 432x288 with 1 Axes>"
            ]
          },
          "metadata": {
            "needs_background": "light"
          }
        }
      ]
    },
    {
      "metadata": {
        "id": "8ZZiFG5dH3_9"
      },
      "cell_type": "markdown",
      "source": [
        "# 3Create Network"
      ]
    },
    {
      "metadata": {
        "id": "popiZSfHH4AD"
      },
      "cell_type": "markdown",
      "source": [
        "<img src=\"https://pytorch.org/tutorials/_images/mnist.png\">"
      ]
    },
    {
      "metadata": {
        "id": "p5HYkglaH4AF"
      },
      "cell_type": "code",
      "source": [
        "class CNN(nn.Module):\n",
        "    def __init__(self):\n",
        "        super(CNN, self).__init__()\n",
        "        self.conv1 = nn.Conv2d(3, 6, 5)\n",
        "        self.pool = nn.MaxPool2d(2, 2)\n",
        "        self.conv2 = nn.Conv2d(6, 16, 5)\n",
        "        self.fc1 = nn.Linear(16 * 53 * 53, 120)\n",
        "        self.fc2 = nn.Linear(120, 84)\n",
        "        self.fc3 = nn.Linear(84, 33)        \n",
        "        \n",
        "    def forward(self, x):\n",
        "        x = self.pool(F.relu(self.conv1(x)))\n",
        "        x = self.pool(F.relu(self.conv2(x)))\n",
        "        x = x.view(-1, 16 * 53 * 53)\n",
        "        x = F.relu(self.fc1(x))\n",
        "        x = F.relu(self.fc2(x))\n",
        "        x = self.fc3(x)\n",
        "        return x"
      ],
      "execution_count": 33,
      "outputs": []
    },
    {
      "metadata": {
        "id": "B5OKjTJpH4AO"
      },
      "cell_type": "code",
      "source": [
        "device = torch.device('cuda' if torch.cuda.is_available() else 'cpu')"
      ],
      "execution_count": 34,
      "outputs": []
    },
    {
      "metadata": {
        "id": "eL6T4YTyH4AZ",
        "colab": {
          "base_uri": "https://localhost:8080/"
        },
        "outputId": "3c783f25-653b-446c-8f4e-d0d89d084a5a"
      },
      "cell_type": "code",
      "source": [
        "cnn = CNN()\n",
        "cnn = cnn.to(device)\n",
        "cnn"
      ],
      "execution_count": 35,
      "outputs": [
        {
          "output_type": "execute_result",
          "data": {
            "text/plain": [
              "CNN(\n",
              "  (conv1): Conv2d(3, 6, kernel_size=(5, 5), stride=(1, 1))\n",
              "  (pool): MaxPool2d(kernel_size=2, stride=2, padding=0, dilation=1, ceil_mode=False)\n",
              "  (conv2): Conv2d(6, 16, kernel_size=(5, 5), stride=(1, 1))\n",
              "  (fc1): Linear(in_features=44944, out_features=120, bias=True)\n",
              "  (fc2): Linear(in_features=120, out_features=84, bias=True)\n",
              "  (fc3): Linear(in_features=84, out_features=33, bias=True)\n",
              ")"
            ]
          },
          "metadata": {},
          "execution_count": 35
        }
      ]
    },
    {
      "metadata": {
        "id": "UxZLZ0uaH4At"
      },
      "cell_type": "markdown",
      "source": [
        "## Define a Loss Function and Optimizer"
      ]
    },
    {
      "metadata": {
        "id": "SMFHhqJqH4Av"
      },
      "cell_type": "code",
      "source": [
        "criterion = nn.CrossEntropyLoss()\n",
        "optimizer = optim.SGD(cnn.parameters(), lr=0.001, momentum=0.9)"
      ],
      "execution_count": 36,
      "outputs": []
    },
    {
      "metadata": {
        "id": "jhP3gDBiH4A1"
      },
      "cell_type": "markdown",
      "source": [
        "## Train the Network"
      ]
    },
    {
      "metadata": {
        "id": "AsdoXiN3H4A3"
      },
      "cell_type": "code",
      "source": [
        "def train_val(model, criterion, optimizer, num_epochs=25):\n",
        "    since = time.time()\n",
        "    \n",
        "    best_model_wts = copy.deepcopy(model.state_dict())\n",
        "    best_acc = 0.0\n",
        "    \n",
        "    for epoch in range(num_epochs):\n",
        "        print('Epoc {}/{}'.format(epoch, num_epochs - 1))\n",
        "        print('-' * 10)\n",
        "        for phase in ['train', 'val']:\n",
        "            if phase == 'train':\n",
        "                model.train()\n",
        "            else:\n",
        "                model.eval()\n",
        "            running_loss = 0.0\n",
        "            running_corrects = 0\n",
        "            for inputs, labels in dataloaders[phase]:\n",
        "                inputs, labels = inputs.to(device), labels.to(device)\n",
        "            \n",
        "                optimizer.zero_grad()\n",
        "\n",
        "                with torch.set_grad_enabled(phase == 'train'):\n",
        "                    # Forward pass\n",
        "                    outputs = model(inputs)\n",
        "                    _, preds = torch.max(outputs, 1)\n",
        "\n",
        "                    # Compute loss\n",
        "                    loss = criterion(outputs, labels)\n",
        "\n",
        "                    # Compute gradients and update parameters if train\n",
        "                    if phase == 'train':\n",
        "                        loss.backward()\n",
        "                        optimizer.step()\n",
        "\n",
        "                running_loss += loss.item() * inputs.size()[0]\n",
        "                running_corrects += torch.sum(preds == labels).item()\n",
        "\n",
        "            epoch_loss = running_loss / len(datasets[phase])\n",
        "            epoch_acc = running_corrects / len(datasets[phase])\n",
        "        \n",
        "            print('{} Loss: {:.4f} Acc.: {:.2f} %'.format(\n",
        "                phase.title(), epoch_loss, epoch_acc * 100))\n",
        "        \n",
        "            if phase == 'val' and epoch_acc > best_acc:\n",
        "                best_acc = epoch_acc\n",
        "                best_model_wts = copy.deepcopy(model.state_dict())\n",
        "        print()\n",
        "    \n",
        "    time_elapsed = time.time() - since\n",
        "    print('Training complete in {:.0f}m {:.0f}s'.format(\n",
        "        time_elapsed // 60, time_elapsed % 60))\n",
        "    print('Best Accuracy: {:.2f} %'.format(best_acc * 100))\n",
        "    model.load_state_dict(best_model_wts)\n",
        "    \n",
        "    return model"
      ],
      "execution_count": 37,
      "outputs": []
    },
    {
      "metadata": {
        "id": "zxtcGl9ZH4A7",
        "colab": {
          "base_uri": "https://localhost:8080/"
        },
        "outputId": "dddf760e-82c0-4eec-b90e-b1f90bdf1d0e"
      },
      "cell_type": "code",
      "source": [
        "%time model_cnn = train_val(cnn, criterion, optimizer)"
      ],
      "execution_count": 38,
      "outputs": [
        {
          "output_type": "stream",
          "name": "stdout",
          "text": [
            "Epoc 0/24\n",
            "----------\n"
          ]
        },
        {
          "output_type": "stream",
          "name": "stderr",
          "text": [
            "/usr/local/lib/python3.7/dist-packages/torch/utils/data/dataloader.py:481: UserWarning: This DataLoader will create 4 worker processes in total. Our suggested max number of worker in current system is 2, which is smaller than what this DataLoader is going to create. Please be aware that excessive worker creation might get DataLoader running slow or even freeze, lower the worker number to avoid potential slowness/freeze if necessary.\n",
            "  cpuset_checked))\n"
          ]
        },
        {
          "output_type": "stream",
          "name": "stdout",
          "text": [
            "Train Loss: 1.3617 Acc.: 80.16 %\n",
            "Val Loss: 2.1138 Acc.: 60.98 %\n",
            "\n",
            "Epoc 1/24\n",
            "----------\n",
            "Train Loss: 1.0823 Acc.: 82.42 %\n",
            "Val Loss: 1.9897 Acc.: 60.98 %\n",
            "\n",
            "Epoc 2/24\n",
            "----------\n",
            "Train Loss: 1.0310 Acc.: 82.42 %\n",
            "Val Loss: 2.5313 Acc.: 60.98 %\n",
            "\n",
            "Epoc 3/24\n",
            "----------\n",
            "Train Loss: 0.9886 Acc.: 82.42 %\n",
            "Val Loss: 2.2708 Acc.: 60.98 %\n",
            "\n",
            "Epoc 4/24\n",
            "----------\n",
            "Train Loss: 0.9252 Acc.: 82.42 %\n",
            "Val Loss: 2.3143 Acc.: 60.98 %\n",
            "\n",
            "Epoc 5/24\n",
            "----------\n",
            "Train Loss: 0.8660 Acc.: 82.42 %\n",
            "Val Loss: 2.0951 Acc.: 60.98 %\n",
            "\n",
            "Epoc 6/24\n",
            "----------\n",
            "Train Loss: 0.8182 Acc.: 82.58 %\n",
            "Val Loss: 2.1776 Acc.: 60.98 %\n",
            "\n",
            "Epoc 7/24\n",
            "----------\n",
            "Train Loss: 0.7528 Acc.: 82.86 %\n",
            "Val Loss: 2.1504 Acc.: 60.65 %\n",
            "\n",
            "Epoc 8/24\n",
            "----------\n",
            "Train Loss: 0.5946 Acc.: 85.33 %\n",
            "Val Loss: 2.9304 Acc.: 60.53 %\n",
            "\n",
            "Epoc 9/24\n",
            "----------\n",
            "Train Loss: 0.4779 Acc.: 88.90 %\n",
            "Val Loss: 3.1606 Acc.: 60.08 %\n",
            "\n",
            "Epoc 10/24\n",
            "----------\n",
            "Train Loss: 0.2636 Acc.: 94.18 %\n",
            "Val Loss: 4.3209 Acc.: 60.57 %\n",
            "\n",
            "Epoc 11/24\n",
            "----------\n",
            "Train Loss: 0.1440 Acc.: 96.54 %\n",
            "Val Loss: 3.6796 Acc.: 60.12 %\n",
            "\n",
            "Epoc 12/24\n",
            "----------\n",
            "Train Loss: 0.0786 Acc.: 98.13 %\n",
            "Val Loss: 5.6652 Acc.: 60.85 %\n",
            "\n",
            "Epoc 13/24\n",
            "----------\n",
            "Train Loss: 0.0500 Acc.: 98.85 %\n",
            "Val Loss: 5.1861 Acc.: 59.43 %\n",
            "\n",
            "Epoc 14/24\n",
            "----------\n",
            "Train Loss: 0.0164 Acc.: 99.84 %\n",
            "Val Loss: 5.7960 Acc.: 60.33 %\n",
            "\n",
            "Epoc 15/24\n",
            "----------\n",
            "Train Loss: 0.0064 Acc.: 99.95 %\n",
            "Val Loss: 5.9740 Acc.: 60.00 %\n",
            "\n",
            "Epoc 16/24\n",
            "----------\n",
            "Train Loss: 0.0040 Acc.: 99.95 %\n",
            "Val Loss: 6.7430 Acc.: 60.69 %\n",
            "\n",
            "Epoc 17/24\n",
            "----------\n",
            "Train Loss: 0.0019 Acc.: 100.00 %\n",
            "Val Loss: 6.9049 Acc.: 60.69 %\n",
            "\n",
            "Epoc 18/24\n",
            "----------\n",
            "Train Loss: 0.0014 Acc.: 100.00 %\n",
            "Val Loss: 7.3193 Acc.: 60.81 %\n",
            "\n",
            "Epoc 19/24\n",
            "----------\n",
            "Train Loss: 0.0010 Acc.: 100.00 %\n",
            "Val Loss: 7.4535 Acc.: 60.85 %\n",
            "\n",
            "Epoc 20/24\n",
            "----------\n",
            "Train Loss: 0.0008 Acc.: 100.00 %\n",
            "Val Loss: 7.3119 Acc.: 60.61 %\n",
            "\n",
            "Epoc 21/24\n",
            "----------\n",
            "Train Loss: 0.0006 Acc.: 100.00 %\n",
            "Val Loss: 7.6486 Acc.: 60.73 %\n",
            "\n",
            "Epoc 22/24\n",
            "----------\n",
            "Train Loss: 0.0006 Acc.: 100.00 %\n",
            "Val Loss: 7.5670 Acc.: 60.73 %\n",
            "\n",
            "Epoc 23/24\n",
            "----------\n",
            "Train Loss: 0.0005 Acc.: 100.00 %\n",
            "Val Loss: 7.5853 Acc.: 60.69 %\n",
            "\n",
            "Epoc 24/24\n",
            "----------\n",
            "Train Loss: 0.0004 Acc.: 100.00 %\n",
            "Val Loss: 7.7364 Acc.: 60.69 %\n",
            "\n",
            "Training complete in 31m 41s\n",
            "Best Accuracy: 60.98 %\n",
            "CPU times: user 1min 55s, sys: 29.1 s, total: 2min 25s\n",
            "Wall time: 31min 40s\n"
          ]
        }
      ]
    },
    {
      "metadata": {
        "id": "_-vLgdVgH4BH"
      },
      "cell_type": "markdown",
      "source": [
        "# Evaluate Network"
      ]
    },
    {
      "metadata": {
        "id": "KD8ATmATH4BJ"
      },
      "cell_type": "code",
      "source": [
        "def test(model):\n",
        "    model.eval()\n",
        "    running_corrects = 0\n",
        "    with torch.no_grad():\n",
        "        for inputs, labels in dataloaders['test']:\n",
        "            inputs, labels = inputs.to(device), labels.to(device)\n",
        "            outputs = model(inputs)\n",
        "            _, preds = torch.max(outputs, 1)\n",
        "            \n",
        "            running_corrects += torch.sum(preds == labels).item()\n",
        "        \n",
        "    test_acc = running_corrects / len(datasets['test'])\n",
        "    print('Test Acc.: {:.2f} %'.format(test_acc * 100))"
      ],
      "execution_count": 39,
      "outputs": []
    },
    {
      "metadata": {
        "id": "adtC6xDjH4BQ",
        "colab": {
          "base_uri": "https://localhost:8080/"
        },
        "outputId": "f16b64f0-e8bf-4488-b895-a084bc913513"
      },
      "cell_type": "code",
      "source": [
        "%time test(model_cnn)"
      ],
      "execution_count": 40,
      "outputs": [
        {
          "output_type": "stream",
          "name": "stderr",
          "text": [
            "/usr/local/lib/python3.7/dist-packages/torch/utils/data/dataloader.py:481: UserWarning: This DataLoader will create 4 worker processes in total. Our suggested max number of worker in current system is 2, which is smaller than what this DataLoader is going to create. Please be aware that excessive worker creation might get DataLoader running slow or even freeze, lower the worker number to avoid potential slowness/freeze if necessary.\n",
            "  cpuset_checked))\n"
          ]
        },
        {
          "output_type": "stream",
          "name": "stdout",
          "text": [
            "Test Acc.: 75.76 %\n",
            "CPU times: user 3.07 s, sys: 974 ms, total: 4.05 s\n",
            "Wall time: 1min 10s\n"
          ]
        }
      ]
    },
    {
      "metadata": {
        "id": "H6_2bN5bH4Ba"
      },
      "cell_type": "markdown",
      "source": [
        "# Transfer Learning"
      ]
    },
    {
      "metadata": {
        "id": "_1VsCbs1H4Bq"
      },
      "cell_type": "markdown",
      "source": [
        "## Fine-tuning"
      ]
    },
    {
      "metadata": {
        "id": "wB1I6JuJH4By"
      },
      "cell_type": "code",
      "source": [
        "train_mean = np.array([0.485, 0.456, 0.406])\n",
        "train_std = np.array([0.229, 0.224, 0.225])"
      ],
      "execution_count": 41,
      "outputs": []
    },
    {
      "metadata": {
        "id": "lkWQYhOaH4B6"
      },
      "cell_type": "code",
      "source": [
        "data_transforms = transforms.Compose([\n",
        "    transforms.Resize((224, 224)), \n",
        "    transforms.ToTensor(),\n",
        "    transforms.Normalize(train_mean, train_std)\n",
        "])"
      ],
      "execution_count": 42,
      "outputs": []
    },
    {
      "metadata": {
        "id": "hrbQ9--CH4CB"
      },
      "cell_type": "code",
      "source": [
        "datasets = {i : torchvision.datasets.ImageFolder(DATA_DIR / i, data_transforms) \n",
        "            for i in SETS}"
      ],
      "execution_count": 43,
      "outputs": []
    },
    {
      "metadata": {
        "id": "Uk37YbkFH4CI",
        "colab": {
          "base_uri": "https://localhost:8080/"
        },
        "outputId": "47d56035-4621-435b-a93c-6db8402b56bd"
      },
      "cell_type": "code",
      "source": [
        "dataloaders = {i : DataLoader(datasets[i], batch_size=bz, shuffle=(i == 'train'), num_workers=4) \n",
        "               for i in SETS}"
      ],
      "execution_count": 44,
      "outputs": [
        {
          "output_type": "stream",
          "name": "stderr",
          "text": [
            "/usr/local/lib/python3.7/dist-packages/torch/utils/data/dataloader.py:481: UserWarning: This DataLoader will create 4 worker processes in total. Our suggested max number of worker in current system is 2, which is smaller than what this DataLoader is going to create. Please be aware that excessive worker creation might get DataLoader running slow or even freeze, lower the worker number to avoid potential slowness/freeze if necessary.\n",
            "  cpuset_checked))\n"
          ]
        }
      ]
    },
    {
      "metadata": {
        "id": "63a0CUTqH4CO",
        "colab": {
          "base_uri": "https://localhost:8080/"
        },
        "outputId": "1d142ad6-8c4a-4d50-bb58-66b01a55d010"
      },
      "cell_type": "code",
      "source": [
        "imgs, labels = next(iter(dataloaders['train']))"
      ],
      "execution_count": 45,
      "outputs": [
        {
          "output_type": "stream",
          "name": "stderr",
          "text": [
            "/usr/local/lib/python3.7/dist-packages/torch/utils/data/dataloader.py:481: UserWarning: This DataLoader will create 4 worker processes in total. Our suggested max number of worker in current system is 2, which is smaller than what this DataLoader is going to create. Please be aware that excessive worker creation might get DataLoader running slow or even freeze, lower the worker number to avoid potential slowness/freeze if necessary.\n",
            "  cpuset_checked))\n"
          ]
        }
      ]
    },
    {
      "metadata": {
        "id": "OPfQA5_kH4CX",
        "colab": {
          "base_uri": "https://localhost:8080/",
          "height": 154
        },
        "outputId": "b407fb3e-9661-40fc-fee8-9cde6e2f5fe2"
      },
      "cell_type": "code",
      "source": [
        "img = torchvision.utils.make_grid(imgs[:4])\n",
        "classes = datasets['train'].classes\n",
        "print(', '.join(classes[i] for i in labels[:4]))\n",
        "imshow(img)"
      ],
      "execution_count": 46,
      "outputs": [
        {
          "output_type": "stream",
          "name": "stdout",
          "text": [
            "no-logo, no-logo, ferrari, no-logo\n"
          ]
        },
        {
          "output_type": "display_data",
          "data": {
            "image/png": "[encoded data removed]",
            "text/plain": [
              "<Figure size 432x288 with 1 Axes>"
            ]
          },
          "metadata": {
            "needs_background": "light"
          }
        }
      ]
    },
    {
      "metadata": {
        "id": "xeE2qXmyH4Ch"
      },
      "cell_type": "code",
      "source": [
        "model_ft = torchvision.models.resnet18(pretrained=True)\n",
        "num_ftrs = model_ft.fc.in_features                       # 512\n",
        "model_ft.fc = nn.Linear(num_ftrs, 33)\n",
        "model_ft = model_ft.to(device)\n",
        "criterion = nn.CrossEntropyLoss()\n",
        "lr = 0.001\n",
        "optimizer_ft = optim.SGD(model_ft.parameters(), lr=lr, momentum=0.9)"
      ],
      "execution_count": null,
      "outputs": []
    },
    {
      "metadata": {
        "id": "4mc5Exu3H4Co",
        "colab": {
          "base_uri": "https://localhost:8080/",
          "height": 2257
        },
        "outputId": "72a60b71-c480-468d-b057-b9730d6a38fd"
      },
      "cell_type": "code",
      "source": [
        "%time model_ft = train_val(model_ft, criterion, optimizer_ft)"
      ],
      "execution_count": null,
      "outputs": [
        {
          "output_type": "stream",
          "text": [
            "Epoc 0/24\n",
            "----------\n",
            "Train Loss: 0.8379 Acc.: 81.37 %\n",
            "Val Loss: 1.6310 Acc.: 62.60 %\n",
            "\n",
            "Epoc 1/24\n",
            "----------\n",
            "Train Loss: 0.5642 Acc.: 85.60 %\n",
            "Val Loss: 1.4712 Acc.: 66.54 %\n",
            "\n",
            "Epoc 2/24\n",
            "----------\n",
            "Train Loss: 0.4068 Acc.: 91.37 %\n",
            "Val Loss: 1.2385 Acc.: 71.59 %\n",
            "\n",
            "Epoc 3/24\n",
            "----------\n",
            "Train Loss: 0.2612 Acc.: 94.73 %\n",
            "Val Loss: 1.1371 Acc.: 74.96 %\n",
            "\n",
            "Epoc 4/24\n",
            "----------\n",
            "Train Loss: 0.1423 Acc.: 98.13 %\n",
            "Val Loss: 1.1393 Acc.: 75.57 %\n",
            "\n",
            "Epoc 5/24\n",
            "----------\n",
            "Train Loss: 0.0858 Acc.: 99.07 %\n",
            "Val Loss: 1.1419 Acc.: 75.93 %\n",
            "\n",
            "Epoc 6/24\n",
            "----------\n",
            "Train Loss: 0.0470 Acc.: 99.95 %\n",
            "Val Loss: 1.1337 Acc.: 76.71 %\n",
            "\n",
            "Epoc 7/24\n",
            "----------\n",
            "Train Loss: 0.0335 Acc.: 99.89 %\n",
            "Val Loss: 1.0323 Acc.: 78.01 %\n",
            "\n",
            "Epoc 8/24\n",
            "----------\n",
            "Train Loss: 0.0252 Acc.: 99.89 %\n",
            "Val Loss: 1.0919 Acc.: 77.97 %\n",
            "\n",
            "Epoc 9/24\n",
            "----------\n",
            "Train Loss: 0.0164 Acc.: 99.95 %\n",
            "Val Loss: 1.0789 Acc.: 78.09 %\n",
            "\n",
            "Epoc 10/24\n",
            "----------\n",
            "Train Loss: 0.0171 Acc.: 99.89 %\n",
            "Val Loss: 1.1283 Acc.: 77.60 %\n",
            "\n",
            "Epoc 11/24\n",
            "----------\n",
            "Train Loss: 0.0130 Acc.: 100.00 %\n",
            "Val Loss: 1.0950 Acc.: 78.62 %\n",
            "\n",
            "Epoc 12/24\n",
            "----------\n",
            "Train Loss: 0.0124 Acc.: 99.89 %\n",
            "Val Loss: 1.0616 Acc.: 78.98 %\n",
            "\n",
            "Epoc 13/24\n",
            "----------\n",
            "Train Loss: 0.0103 Acc.: 99.95 %\n",
            "Val Loss: 0.9341 Acc.: 80.41 %\n",
            "\n",
            "Epoc 14/24\n",
            "----------\n",
            "Train Loss: 0.0086 Acc.: 100.00 %\n",
            "Val Loss: 1.0090 Acc.: 79.51 %\n",
            "\n",
            "Epoc 15/24\n",
            "----------\n",
            "Train Loss: 0.0092 Acc.: 99.95 %\n",
            "Val Loss: 0.9983 Acc.: 80.00 %\n",
            "\n",
            "Epoc 16/24\n",
            "----------\n",
            "Train Loss: 0.0073 Acc.: 100.00 %\n",
            "Val Loss: 1.1116 Acc.: 79.19 %\n",
            "\n",
            "Epoc 17/24\n",
            "----------\n",
            "Train Loss: 0.0081 Acc.: 99.95 %\n",
            "Val Loss: 1.0719 Acc.: 79.27 %\n",
            "\n",
            "Epoc 18/24\n",
            "----------\n",
            "Train Loss: 0.0071 Acc.: 99.95 %\n",
            "Val Loss: 1.0820 Acc.: 79.19 %\n",
            "\n",
            "Epoc 19/24\n",
            "----------\n",
            "Train Loss: 0.0069 Acc.: 100.00 %\n",
            "Val Loss: 1.0701 Acc.: 79.72 %\n",
            "\n",
            "Epoc 20/24\n",
            "----------\n",
            "Train Loss: 0.0067 Acc.: 100.00 %\n",
            "Val Loss: 1.1269 Acc.: 78.90 %\n",
            "\n",
            "Epoc 21/24\n",
            "----------\n",
            "Train Loss: 0.0049 Acc.: 100.00 %\n",
            "Val Loss: 1.0528 Acc.: 79.76 %\n",
            "\n",
            "Epoc 22/24\n",
            "----------\n",
            "Train Loss: 0.0038 Acc.: 100.00 %\n",
            "Val Loss: 1.0979 Acc.: 79.55 %\n",
            "\n",
            "Epoc 23/24\n",
            "----------\n",
            "Train Loss: 0.0039 Acc.: 100.00 %\n",
            "Val Loss: 1.1617 Acc.: 79.35 %\n",
            "\n",
            "Epoc 24/24\n",
            "----------\n",
            "Train Loss: 0.0041 Acc.: 100.00 %\n",
            "Val Loss: 1.0371 Acc.: 79.84 %\n",
            "\n",
            "Training complete in 62m 46s\n",
            "Best Accuracy: 80.41 %\n",
            "CPU times: user 4min 35s, sys: 2min 49s, total: 7min 25s\n",
            "Wall time: 1h 2min 45s\n"
          ],
          "name": "stdout"
        }
      ]
    },
    {
      "metadata": {
        "id": "Y_TzeEg8H4Cy",
        "colab": {
          "base_uri": "https://localhost:8080/",
          "height": 69
        },
        "outputId": "26f28d7d-165d-4bf1-bdf6-28beea3eaef3"
      },
      "cell_type": "code",
      "source": [
        "%time test(model_ft)"
      ],
      "execution_count": null,
      "outputs": [
        {
          "output_type": "stream",
          "text": [
            "Test Acc.: 88.38 %\n",
            "CPU times: user 5.47 s, sys: 3.49 s, total: 8.96 s\n",
            "Wall time: 2min 13s\n"
          ],
          "name": "stdout"
        }
      ]
    },
    {
      "metadata": {
        "id": "xaTx2wBaH4C5"
      },
      "cell_type": "markdown",
      "source": [
        "## As Fixed Feature Extractor"
      ]
    },
    {
      "metadata": {
        "id": "v_XYorA0H4C7"
      },
      "cell_type": "code",
      "source": [
        "# Parameters of newly constructed modules have requires_grad=True by default\n",
        "model_ff = torchvision.models.resnet18(pretrained=True)\n",
        "for param in model_ff.parameters():\n",
        "    param.requires_grad = False"
      ],
      "execution_count": null,
      "outputs": []
    },
    {
      "metadata": {
        "id": "lHaOXM9sH4C-"
      },
      "cell_type": "code",
      "source": [
        "num_ftrs = model_ff.fc.in_features    \n",
        "model_ff.fc = nn.Linear(num_ftrs, 33)\n",
        "model_ff = model_ff.to(device)\n",
        "criterion = nn.CrossEntropyLoss()\n",
        "lr = 0.001\n",
        "optimizer_ff = optim.SGD(model_ff.fc.parameters(), lr=lr, momentum=0.9)"
      ],
      "execution_count": null,
      "outputs": []
    },
    {
      "metadata": {
        "id": "Wp_i0CJ-H4DC",
        "colab": {
          "base_uri": "https://localhost:8080/",
          "height": 2257
        },
        "outputId": "fb136919-109c-4e81-da11-40cc71d8c0b8"
      },
      "cell_type": "code",
      "source": [
        "%time model_ff = train_val(model_ff, criterion, optimizer_ff)"
      ],
      "execution_count": null,
      "outputs": [
        {
          "output_type": "stream",
          "text": [
            "Epoc 0/24\n",
            "----------\n",
            "Train Loss: 0.8671 Acc.: 81.92 %\n",
            "Val Loss: 1.5354 Acc.: 63.50 %\n",
            "\n",
            "Epoc 1/24\n",
            "----------\n",
            "Train Loss: 0.6293 Acc.: 84.67 %\n",
            "Val Loss: 1.3553 Acc.: 66.59 %\n",
            "\n",
            "Epoc 2/24\n",
            "----------\n",
            "Train Loss: 0.5285 Acc.: 87.58 %\n",
            "Val Loss: 1.3209 Acc.: 68.94 %\n",
            "\n",
            "Epoc 3/24\n",
            "----------\n",
            "Train Loss: 0.4448 Acc.: 88.90 %\n",
            "Val Loss: 1.3438 Acc.: 68.70 %\n",
            "\n",
            "Epoc 4/24\n",
            "----------\n",
            "Train Loss: 0.3922 Acc.: 91.32 %\n",
            "Val Loss: 1.2299 Acc.: 71.50 %\n",
            "\n",
            "Epoc 5/24\n",
            "----------\n",
            "Train Loss: 0.3477 Acc.: 92.14 %\n",
            "Val Loss: 1.2547 Acc.: 71.06 %\n",
            "\n",
            "Epoc 6/24\n",
            "----------\n",
            "Train Loss: 0.3122 Acc.: 93.24 %\n",
            "Val Loss: 1.2390 Acc.: 72.15 %\n",
            "\n",
            "Epoc 7/24\n",
            "----------\n",
            "Train Loss: 0.2758 Acc.: 94.29 %\n",
            "Val Loss: 1.2151 Acc.: 72.15 %\n",
            "\n",
            "Epoc 8/24\n",
            "----------\n",
            "Train Loss: 0.2559 Acc.: 95.27 %\n",
            "Val Loss: 1.0731 Acc.: 72.97 %\n",
            "\n",
            "Epoc 9/24\n",
            "----------\n",
            "Train Loss: 0.2262 Acc.: 95.66 %\n",
            "Val Loss: 1.1435 Acc.: 73.78 %\n",
            "\n",
            "Epoc 10/24\n",
            "----------\n",
            "Train Loss: 0.2214 Acc.: 95.49 %\n",
            "Val Loss: 1.0761 Acc.: 73.21 %\n",
            "\n",
            "Epoc 11/24\n",
            "----------\n",
            "Train Loss: 0.2127 Acc.: 95.60 %\n",
            "Val Loss: 1.1361 Acc.: 73.62 %\n",
            "\n",
            "Epoc 12/24\n",
            "----------\n",
            "Train Loss: 0.1887 Acc.: 96.21 %\n",
            "Val Loss: 1.1380 Acc.: 73.86 %\n",
            "\n",
            "Epoc 13/24\n",
            "----------\n",
            "Train Loss: 0.1758 Acc.: 96.92 %\n",
            "Val Loss: 1.1030 Acc.: 74.27 %\n",
            "\n",
            "Epoc 14/24\n",
            "----------\n",
            "Train Loss: 0.1640 Acc.: 96.76 %\n",
            "Val Loss: 1.1187 Acc.: 74.11 %\n",
            "\n",
            "Epoc 15/24\n",
            "----------\n",
            "Train Loss: 0.1679 Acc.: 96.65 %\n",
            "Val Loss: 1.1231 Acc.: 74.23 %\n",
            "\n",
            "Epoc 16/24\n",
            "----------\n",
            "Train Loss: 0.1487 Acc.: 97.42 %\n",
            "Val Loss: 1.0830 Acc.: 74.63 %\n",
            "\n",
            "Epoc 17/24\n",
            "----------\n",
            "Train Loss: 0.1374 Acc.: 97.31 %\n",
            "Val Loss: 1.1932 Acc.: 73.82 %\n",
            "\n",
            "Epoc 18/24\n",
            "----------\n",
            "Train Loss: 0.1375 Acc.: 97.64 %\n",
            "Val Loss: 1.1201 Acc.: 74.43 %\n",
            "\n",
            "Epoc 19/24\n",
            "----------\n",
            "Train Loss: 0.1266 Acc.: 97.97 %\n",
            "Val Loss: 1.1680 Acc.: 73.70 %\n",
            "\n",
            "Epoc 20/24\n",
            "----------\n",
            "Train Loss: 0.1252 Acc.: 97.42 %\n",
            "Val Loss: 1.0858 Acc.: 74.63 %\n",
            "\n",
            "Epoc 21/24\n",
            "----------\n",
            "Train Loss: 0.1162 Acc.: 97.91 %\n",
            "Val Loss: 1.1208 Acc.: 74.07 %\n",
            "\n",
            "Epoc 22/24\n",
            "----------\n",
            "Train Loss: 0.1038 Acc.: 98.24 %\n",
            "Val Loss: 1.1563 Acc.: 73.78 %\n",
            "\n",
            "Epoc 23/24\n",
            "----------\n",
            "Train Loss: 0.1079 Acc.: 98.02 %\n",
            "Val Loss: 1.1792 Acc.: 73.90 %\n",
            "\n",
            "Epoc 24/24\n",
            "----------\n",
            "Train Loss: 0.1177 Acc.: 98.02 %\n",
            "Val Loss: 1.1880 Acc.: 74.23 %\n",
            "\n",
            "Training complete in 61m 42s\n",
            "Best Accuracy: 74.63 %\n",
            "CPU times: user 2min 41s, sys: 1min 37s, total: 4min 19s\n",
            "Wall time: 1h 1min 41s\n"
          ],
          "name": "stdout"
        }
      ]
    },
    {
      "metadata": {
        "id": "cTLfUVodH4DH",
        "colab": {
          "base_uri": "https://localhost:8080/",
          "height": 69
        },
        "outputId": "b8074ced-784d-4230-f344-57bab371b466"
      },
      "cell_type": "code",
      "source": [
        "%time test(model_ff)"
      ],
      "execution_count": null,
      "outputs": [
        {
          "output_type": "stream",
          "text": [
            "Test Acc.: 84.39 %\n",
            "CPU times: user 5.61 s, sys: 3.33 s, total: 8.94 s\n",
            "Wall time: 2min 15s\n"
          ],
          "name": "stdout"
        }
      ]
    },
    {
      "metadata": {
        "id": "tOY1yM3eH4DP"
      },
      "cell_type": "code",
      "source": [
        ""
      ],
      "execution_count": null,
      "outputs": []
    }
  ]
}